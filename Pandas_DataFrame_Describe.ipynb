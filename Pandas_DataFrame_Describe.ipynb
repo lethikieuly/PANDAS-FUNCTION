{
  "nbformat": 4,
  "nbformat_minor": 0,
  "metadata": {
    "colab": {
      "name": "Pandas_DataFrame_Describe",
      "provenance": [],
      "authorship_tag": "ABX9TyMnLxw6SrHNPTWb9UXYeKf/",
      "include_colab_link": true
    },
    "kernelspec": {
      "name": "python3",
      "display_name": "Python 3"
    },
    "language_info": {
      "name": "python"
    }
  },
  "cells": [
    {
      "cell_type": "markdown",
      "metadata": {
        "id": "view-in-github",
        "colab_type": "text"
      },
      "source": [
        "<a href=\"https://colab.research.google.com/github/lethikieuly/PANDAS-FUNCTION/blob/main/Pandas_DataFrame_Describe.ipynb\" target=\"_parent\"><img src=\"https://colab.research.google.com/assets/colab-badge.svg\" alt=\"Open In Colab\"/></a>"
      ]
    },
    {
      "cell_type": "markdown",
      "metadata": {
        "id": "vgJkVG2qD61F"
      },
      "source": [
        "**STRUCTURE**\n",
        "\n",
        "DataFrame.describe(percentiles=None, include=None, exclude=None,datetime_is_numeric=False)\n",
        "\n",
        "**Concept**: Return a statistical summary\n",
        "\n",
        "We can also see\n",
        "\n",
        "-*DataFrame.count: Count number of non-NA/null observations.*\n",
        "\n",
        "-*DataFrame.max: Maximum of the values in the object.*\n",
        "\n",
        "-*DataFrame.min: Minimum of the values in the object.*\n",
        "\n",
        "-*DataFrame.mean: Mean of the values.*\n",
        "\n",
        "-*DataFrame.std Standard deviation of the observations. (độ lệch chuẩn của các quan sát*\n"
      ]
    },
    {
      "cell_type": "markdown",
      "metadata": {
        "id": "WWe_L7xuKEDr"
      },
      "source": [
        "**1/ Default Describe - Let's see what comes out by default**"
      ]
    },
    {
      "cell_type": "code",
      "metadata": {
        "id": "itSEYE0HJ3Hs"
      },
      "source": [
        "import pandas as pd"
      ],
      "execution_count": 1,
      "outputs": []
    },
    {
      "cell_type": "markdown",
      "metadata": {
        "id": "mpYZ4LW7NFoF"
      },
      "source": [
        "Skip rows and colums that do not contain numbers"
      ]
    },
    {
      "cell_type": "code",
      "metadata": {
        "colab": {
          "base_uri": "https://localhost:8080/",
          "height": 300
        },
        "id": "YKkXB3s5K7iR",
        "outputId": "26e0b528-2202-4796-abc2-aa62ad961095"
      },
      "source": [
        "Product=pd.DataFrame({'Names':pd.Categorical(['Sandal','scissors','hat']),\n",
        "                      'Size':[1,2,4],\n",
        "                      'Code':['a','b','c']})\n",
        "Product.describe()"
      ],
      "execution_count": 3,
      "outputs": [
        {
          "output_type": "execute_result",
          "data": {
            "text/html": [
              "<div>\n",
              "<style scoped>\n",
              "    .dataframe tbody tr th:only-of-type {\n",
              "        vertical-align: middle;\n",
              "    }\n",
              "\n",
              "    .dataframe tbody tr th {\n",
              "        vertical-align: top;\n",
              "    }\n",
              "\n",
              "    .dataframe thead th {\n",
              "        text-align: right;\n",
              "    }\n",
              "</style>\n",
              "<table border=\"1\" class=\"dataframe\">\n",
              "  <thead>\n",
              "    <tr style=\"text-align: right;\">\n",
              "      <th></th>\n",
              "      <th>Size</th>\n",
              "    </tr>\n",
              "  </thead>\n",
              "  <tbody>\n",
              "    <tr>\n",
              "      <th>count</th>\n",
              "      <td>3.000000</td>\n",
              "    </tr>\n",
              "    <tr>\n",
              "      <th>mean</th>\n",
              "      <td>2.333333</td>\n",
              "    </tr>\n",
              "    <tr>\n",
              "      <th>std</th>\n",
              "      <td>1.527525</td>\n",
              "    </tr>\n",
              "    <tr>\n",
              "      <th>min</th>\n",
              "      <td>1.000000</td>\n",
              "    </tr>\n",
              "    <tr>\n",
              "      <th>25%</th>\n",
              "      <td>1.500000</td>\n",
              "    </tr>\n",
              "    <tr>\n",
              "      <th>50%</th>\n",
              "      <td>2.000000</td>\n",
              "    </tr>\n",
              "    <tr>\n",
              "      <th>75%</th>\n",
              "      <td>3.000000</td>\n",
              "    </tr>\n",
              "    <tr>\n",
              "      <th>max</th>\n",
              "      <td>4.000000</td>\n",
              "    </tr>\n",
              "  </tbody>\n",
              "</table>\n",
              "</div>"
            ],
            "text/plain": [
              "           Size\n",
              "count  3.000000\n",
              "mean   2.333333\n",
              "std    1.527525\n",
              "min    1.000000\n",
              "25%    1.500000\n",
              "50%    2.000000\n",
              "75%    3.000000\n",
              "max    4.000000"
            ]
          },
          "metadata": {},
          "execution_count": 3
        }
      ]
    },
    {
      "cell_type": "markdown",
      "metadata": {
        "id": "y6lvYhU2MA0m"
      },
      "source": [
        "**2. Including all columns via 'include'**"
      ]
    },
    {
      "cell_type": "markdown",
      "metadata": {
        "id": "J9zjLcmXNSb5"
      },
      "source": [
        "Provides full summary statistics. We can see that for the object type columns like unique, top, frequence.\n",
        "- Unique is the number of distinct objects in the column.\n",
        "- Top is most frequently occurring object,\n",
        "- and freq is the number of times the top object appears in the column\n",
        "\n",
        "NaN which stands for not a number. This is because that particular statistical metric cannot be calculated for that specific column data type."
      ]
    },
    {
      "cell_type": "code",
      "metadata": {
        "colab": {
          "base_uri": "https://localhost:8080/",
          "height": 394
        },
        "id": "WPrDT53gMFxa",
        "outputId": "d5e10034-8bb0-4b94-bdfc-b9a423fd26f7"
      },
      "source": [
        "Product.describe(include='all') "
      ],
      "execution_count": 4,
      "outputs": [
        {
          "output_type": "execute_result",
          "data": {
            "text/html": [
              "<div>\n",
              "<style scoped>\n",
              "    .dataframe tbody tr th:only-of-type {\n",
              "        vertical-align: middle;\n",
              "    }\n",
              "\n",
              "    .dataframe tbody tr th {\n",
              "        vertical-align: top;\n",
              "    }\n",
              "\n",
              "    .dataframe thead th {\n",
              "        text-align: right;\n",
              "    }\n",
              "</style>\n",
              "<table border=\"1\" class=\"dataframe\">\n",
              "  <thead>\n",
              "    <tr style=\"text-align: right;\">\n",
              "      <th></th>\n",
              "      <th>Names</th>\n",
              "      <th>Size</th>\n",
              "      <th>Code</th>\n",
              "    </tr>\n",
              "  </thead>\n",
              "  <tbody>\n",
              "    <tr>\n",
              "      <th>count</th>\n",
              "      <td>3</td>\n",
              "      <td>3.000000</td>\n",
              "      <td>3</td>\n",
              "    </tr>\n",
              "    <tr>\n",
              "      <th>unique</th>\n",
              "      <td>3</td>\n",
              "      <td>NaN</td>\n",
              "      <td>3</td>\n",
              "    </tr>\n",
              "    <tr>\n",
              "      <th>top</th>\n",
              "      <td>scissors</td>\n",
              "      <td>NaN</td>\n",
              "      <td>a</td>\n",
              "    </tr>\n",
              "    <tr>\n",
              "      <th>freq</th>\n",
              "      <td>1</td>\n",
              "      <td>NaN</td>\n",
              "      <td>1</td>\n",
              "    </tr>\n",
              "    <tr>\n",
              "      <th>mean</th>\n",
              "      <td>NaN</td>\n",
              "      <td>2.333333</td>\n",
              "      <td>NaN</td>\n",
              "    </tr>\n",
              "    <tr>\n",
              "      <th>std</th>\n",
              "      <td>NaN</td>\n",
              "      <td>1.527525</td>\n",
              "      <td>NaN</td>\n",
              "    </tr>\n",
              "    <tr>\n",
              "      <th>min</th>\n",
              "      <td>NaN</td>\n",
              "      <td>1.000000</td>\n",
              "      <td>NaN</td>\n",
              "    </tr>\n",
              "    <tr>\n",
              "      <th>25%</th>\n",
              "      <td>NaN</td>\n",
              "      <td>1.500000</td>\n",
              "      <td>NaN</td>\n",
              "    </tr>\n",
              "    <tr>\n",
              "      <th>50%</th>\n",
              "      <td>NaN</td>\n",
              "      <td>2.000000</td>\n",
              "      <td>NaN</td>\n",
              "    </tr>\n",
              "    <tr>\n",
              "      <th>75%</th>\n",
              "      <td>NaN</td>\n",
              "      <td>3.000000</td>\n",
              "      <td>NaN</td>\n",
              "    </tr>\n",
              "    <tr>\n",
              "      <th>max</th>\n",
              "      <td>NaN</td>\n",
              "      <td>4.000000</td>\n",
              "      <td>NaN</td>\n",
              "    </tr>\n",
              "  </tbody>\n",
              "</table>\n",
              "</div>"
            ],
            "text/plain": [
              "           Names      Size Code\n",
              "count          3  3.000000    3\n",
              "unique         3       NaN    3\n",
              "top     scissors       NaN    a\n",
              "freq           1       NaN    1\n",
              "mean         NaN  2.333333  NaN\n",
              "std          NaN  1.527525  NaN\n",
              "min          NaN  1.000000  NaN\n",
              "25%          NaN  1.500000  NaN\n",
              "50%          NaN  2.000000  NaN\n",
              "75%          NaN  3.000000  NaN\n",
              "max          NaN  4.000000  NaN"
            ]
          },
          "metadata": {},
          "execution_count": 4
        }
      ]
    },
    {
      "cell_type": "markdown",
      "metadata": {
        "id": "opgbhRhMOKhV"
      },
      "source": [
        "Provide a concise summary of your dataframe"
      ]
    },
    {
      "cell_type": "code",
      "metadata": {
        "colab": {
          "base_uri": "https://localhost:8080/"
        },
        "id": "sMHLoJPXODBJ",
        "outputId": "60c7ae69-7c8f-4321-9b84-e447d2a8d00e"
      },
      "source": [
        "Product.info()"
      ],
      "execution_count": 8,
      "outputs": [
        {
          "output_type": "stream",
          "name": "stdout",
          "text": [
            "<class 'pandas.core.frame.DataFrame'>\n",
            "RangeIndex: 3 entries, 0 to 2\n",
            "Data columns (total 3 columns):\n",
            " #   Column  Non-Null Count  Dtype   \n",
            "---  ------  --------------  -----   \n",
            " 0   Names   3 non-null      category\n",
            " 1   Size    3 non-null      int64   \n",
            " 2   Code    3 non-null      object  \n",
            "dtypes: category(1), int64(1), object(1)\n",
            "memory usage: 283.0+ bytes\n"
          ]
        }
      ]
    },
    {
      "cell_type": "markdown",
      "metadata": {
        "id": "9xrv_UZMMTcx"
      },
      "source": [
        "**3. Treating datetimes like numbers via datetime_is_numeric=True**"
      ]
    },
    {
      "cell_type": "code",
      "metadata": {
        "colab": {
          "base_uri": "https://localhost:8080/"
        },
        "id": "h1xC7R9SMwt0",
        "outputId": "5c6aca3d-ca8d-4da6-c2a7-eb9fbe2292cb"
      },
      "source": [
        "import numpy as np\n",
        "\n",
        "s = pd.Series([\n",
        "  np.datetime64(\"2000-01-01\"),\n",
        "  np.datetime64(\"2010-01-01\"),\n",
        "  np.datetime64(\"2010-01-01\")\n",
        "])\n",
        "s.describe(datetime_is_numeric=True)"
      ],
      "execution_count": 7,
      "outputs": [
        {
          "output_type": "execute_result",
          "data": {
            "text/plain": [
              "count                      3\n",
              "mean     2006-09-01 08:00:00\n",
              "min      2000-01-01 00:00:00\n",
              "25%      2004-12-31 12:00:00\n",
              "50%      2010-01-01 00:00:00\n",
              "75%      2010-01-01 00:00:00\n",
              "max      2010-01-01 00:00:00\n",
              "dtype: object"
            ]
          },
          "metadata": {},
          "execution_count": 7
        }
      ]
    }
  ]
}