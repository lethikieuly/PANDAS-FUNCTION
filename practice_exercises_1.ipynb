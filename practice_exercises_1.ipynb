{
  "nbformat": 4,
  "nbformat_minor": 0,
  "metadata": {
    "colab": {
      "name": "practice exercises 1.ipynb",
      "provenance": [],
      "authorship_tag": "ABX9TyNqpGUpW/a3paEr1abukVRW",
      "include_colab_link": true
    },
    "kernelspec": {
      "name": "python3",
      "display_name": "Python 3"
    },
    "language_info": {
      "name": "python"
    }
  },
  "cells": [
    {
      "cell_type": "markdown",
      "metadata": {
        "id": "view-in-github",
        "colab_type": "text"
      },
      "source": [
        "<a href=\"https://colab.research.google.com/github/lethikieuly/PANDAS-FUNCTION/blob/main/practice_exercises_1.ipynb\" target=\"_parent\"><img src=\"https://colab.research.google.com/assets/colab-badge.svg\" alt=\"Open In Colab\"/></a>"
      ]
    },
    {
      "cell_type": "code",
      "metadata": {
        "id": "lZQBuofE6wvk"
      },
      "source": [
        "import pandas as pd"
      ],
      "execution_count": 1,
      "outputs": []
    },
    {
      "cell_type": "code",
      "metadata": {
        "colab": {
          "base_uri": "https://localhost:8080/",
          "height": 206
        },
        "id": "BipA_l80680g",
        "outputId": "7239f909-e89e-4041-bb1b-26baa2d6a98e"
      },
      "source": [
        "data= pd.read_csv(\"/content/sample_data/nba.csv\")\n",
        "data.head(5)"
      ],
      "execution_count": 2,
      "outputs": [
        {
          "output_type": "execute_result",
          "data": {
            "text/html": [
              "<div>\n",
              "<style scoped>\n",
              "    .dataframe tbody tr th:only-of-type {\n",
              "        vertical-align: middle;\n",
              "    }\n",
              "\n",
              "    .dataframe tbody tr th {\n",
              "        vertical-align: top;\n",
              "    }\n",
              "\n",
              "    .dataframe thead th {\n",
              "        text-align: right;\n",
              "    }\n",
              "</style>\n",
              "<table border=\"1\" class=\"dataframe\">\n",
              "  <thead>\n",
              "    <tr style=\"text-align: right;\">\n",
              "      <th></th>\n",
              "      <th>Name</th>\n",
              "      <th>Team</th>\n",
              "      <th>Number</th>\n",
              "      <th>Position</th>\n",
              "      <th>Age</th>\n",
              "      <th>Height</th>\n",
              "      <th>Weight</th>\n",
              "      <th>College</th>\n",
              "      <th>Salary</th>\n",
              "    </tr>\n",
              "  </thead>\n",
              "  <tbody>\n",
              "    <tr>\n",
              "      <th>0</th>\n",
              "      <td>Avery Bradley</td>\n",
              "      <td>Boston Celtics</td>\n",
              "      <td>0.0</td>\n",
              "      <td>PG</td>\n",
              "      <td>25.0</td>\n",
              "      <td>6-2</td>\n",
              "      <td>180.0</td>\n",
              "      <td>Texas</td>\n",
              "      <td>7730337.0</td>\n",
              "    </tr>\n",
              "    <tr>\n",
              "      <th>1</th>\n",
              "      <td>Jae Crowder</td>\n",
              "      <td>Boston Celtics</td>\n",
              "      <td>99.0</td>\n",
              "      <td>SF</td>\n",
              "      <td>25.0</td>\n",
              "      <td>6-6</td>\n",
              "      <td>235.0</td>\n",
              "      <td>Marquette</td>\n",
              "      <td>6796117.0</td>\n",
              "    </tr>\n",
              "    <tr>\n",
              "      <th>2</th>\n",
              "      <td>John Holland</td>\n",
              "      <td>Boston Celtics</td>\n",
              "      <td>30.0</td>\n",
              "      <td>SG</td>\n",
              "      <td>27.0</td>\n",
              "      <td>6-5</td>\n",
              "      <td>205.0</td>\n",
              "      <td>Boston University</td>\n",
              "      <td>NaN</td>\n",
              "    </tr>\n",
              "    <tr>\n",
              "      <th>3</th>\n",
              "      <td>R.J. Hunter</td>\n",
              "      <td>Boston Celtics</td>\n",
              "      <td>28.0</td>\n",
              "      <td>SG</td>\n",
              "      <td>22.0</td>\n",
              "      <td>6-5</td>\n",
              "      <td>185.0</td>\n",
              "      <td>Georgia State</td>\n",
              "      <td>1148640.0</td>\n",
              "    </tr>\n",
              "    <tr>\n",
              "      <th>4</th>\n",
              "      <td>Jonas Jerebko</td>\n",
              "      <td>Boston Celtics</td>\n",
              "      <td>8.0</td>\n",
              "      <td>PF</td>\n",
              "      <td>29.0</td>\n",
              "      <td>6-10</td>\n",
              "      <td>231.0</td>\n",
              "      <td>NaN</td>\n",
              "      <td>5000000.0</td>\n",
              "    </tr>\n",
              "  </tbody>\n",
              "</table>\n",
              "</div>"
            ],
            "text/plain": [
              "            Name            Team  Number  ... Weight            College     Salary\n",
              "0  Avery Bradley  Boston Celtics     0.0  ...  180.0              Texas  7730337.0\n",
              "1    Jae Crowder  Boston Celtics    99.0  ...  235.0          Marquette  6796117.0\n",
              "2   John Holland  Boston Celtics    30.0  ...  205.0  Boston University        NaN\n",
              "3    R.J. Hunter  Boston Celtics    28.0  ...  185.0      Georgia State  1148640.0\n",
              "4  Jonas Jerebko  Boston Celtics     8.0  ...  231.0                NaN  5000000.0\n",
              "\n",
              "[5 rows x 9 columns]"
            ]
          },
          "metadata": {},
          "execution_count": 2
        }
      ]
    },
    {
      "cell_type": "code",
      "metadata": {
        "colab": {
          "base_uri": "https://localhost:8080/"
        },
        "id": "oL6GuyvM7oeg",
        "outputId": "923ff0bf-a408-4976-dce3-81ceadad403f"
      },
      "source": [
        "data =data.sample(5,random_state=42).reset_index().drop ('index',axis=1)\n",
        "print(data)"
      ],
      "execution_count": 3,
      "outputs": [
        {
          "output_type": "stream",
          "name": "stdout",
          "text": [
            "                Name               Team  ...        College      Salary\n",
            "0       Andre Miller  San Antonio Spurs  ...           Utah    250750.0\n",
            "1       Kyle O'Quinn    New York Knicks  ...  Norfolk State   3750000.0\n",
            "2       Goran Dragic         Miami Heat  ...            NaN  14783000.0\n",
            "3          O.J. Mayo    Milwaukee Bucks  ...            USC   8000000.0\n",
            "4  Cristiano Felicio      Chicago Bulls  ...            NaN    525093.0\n",
            "\n",
            "[5 rows x 9 columns]\n"
          ]
        }
      ]
    },
    {
      "cell_type": "code",
      "metadata": {
        "colab": {
          "base_uri": "https://localhost:8080/"
        },
        "id": "S5C7Fuce9F_1",
        "outputId": "60b62e63-137a-4ebe-9e7e-050ec1e506b0"
      },
      "source": [
        "print(f'Dataset Shape:{data.shape}')"
      ],
      "execution_count": 4,
      "outputs": [
        {
          "output_type": "stream",
          "name": "stdout",
          "text": [
            "Dataset Shape:(5, 9)\n"
          ]
        }
      ]
    },
    {
      "cell_type": "code",
      "metadata": {
        "colab": {
          "base_uri": "https://localhost:8080/",
          "height": 332
        },
        "id": "y35xWMYc9jv6",
        "outputId": "c51b9c0e-4e3f-4586-d91d-5dd72f33525a"
      },
      "source": [
        "summary=pd.DataFrame(data.dtypes,columns=['dtypes'])\n",
        "#nó sẽ tạo ra một column tiêu đề dtypes, một hàng k tiêu đề gồm (name, team, number...salary)\n",
        "summary=summary.reset_index()\n",
        "#Haha tại đây thì hàng k tiêu đề thành index\n",
        "summary['name']=summary['index']\n",
        "#Xong hài hước hơn ơ kìa name thành index giống y chang luôn\n",
        "summary= summary[['name','dtypes']]\n",
        "#Nó lại khới tạo summary chỉ là mảng có name vs dtypes thôi \n",
        "summary['Missing']=data.isnull().sum().values\n",
        "#Tại đây được ôn tập 3 function in thư viện pandas, isnull detect missing values, xong sum default=0, và values sẽ loại bỏ cột tiêu đề trả về các giá trị\n",
        "summary['First Value']= data.loc[0].values\n",
        "#This is basic funtion however it's useful. In this example, data pattern is random and it make you where first values\n",
        "summary['Second Value']=data.loc[1].values\n",
        "summary['Third Value']=data.loc[2].values\n",
        "summary"
      ],
      "execution_count": 7,
      "outputs": [
        {
          "output_type": "execute_result",
          "data": {
            "text/html": [
              "<div>\n",
              "<style scoped>\n",
              "    .dataframe tbody tr th:only-of-type {\n",
              "        vertical-align: middle;\n",
              "    }\n",
              "\n",
              "    .dataframe tbody tr th {\n",
              "        vertical-align: top;\n",
              "    }\n",
              "\n",
              "    .dataframe thead th {\n",
              "        text-align: right;\n",
              "    }\n",
              "</style>\n",
              "<table border=\"1\" class=\"dataframe\">\n",
              "  <thead>\n",
              "    <tr style=\"text-align: right;\">\n",
              "      <th></th>\n",
              "      <th>name</th>\n",
              "      <th>dtypes</th>\n",
              "      <th>Missing</th>\n",
              "      <th>First Value</th>\n",
              "      <th>Second Value</th>\n",
              "      <th>Third Value</th>\n",
              "    </tr>\n",
              "  </thead>\n",
              "  <tbody>\n",
              "    <tr>\n",
              "      <th>0</th>\n",
              "      <td>Name</td>\n",
              "      <td>object</td>\n",
              "      <td>0</td>\n",
              "      <td>Andre Miller</td>\n",
              "      <td>Kyle O'Quinn</td>\n",
              "      <td>Goran Dragic</td>\n",
              "    </tr>\n",
              "    <tr>\n",
              "      <th>1</th>\n",
              "      <td>Team</td>\n",
              "      <td>object</td>\n",
              "      <td>0</td>\n",
              "      <td>San Antonio Spurs</td>\n",
              "      <td>New York Knicks</td>\n",
              "      <td>Miami Heat</td>\n",
              "    </tr>\n",
              "    <tr>\n",
              "      <th>2</th>\n",
              "      <td>Number</td>\n",
              "      <td>float64</td>\n",
              "      <td>0</td>\n",
              "      <td>24</td>\n",
              "      <td>9</td>\n",
              "      <td>7</td>\n",
              "    </tr>\n",
              "    <tr>\n",
              "      <th>3</th>\n",
              "      <td>Position</td>\n",
              "      <td>object</td>\n",
              "      <td>0</td>\n",
              "      <td>PG</td>\n",
              "      <td>PF</td>\n",
              "      <td>PG</td>\n",
              "    </tr>\n",
              "    <tr>\n",
              "      <th>4</th>\n",
              "      <td>Age</td>\n",
              "      <td>float64</td>\n",
              "      <td>0</td>\n",
              "      <td>40</td>\n",
              "      <td>26</td>\n",
              "      <td>30</td>\n",
              "    </tr>\n",
              "    <tr>\n",
              "      <th>5</th>\n",
              "      <td>Height</td>\n",
              "      <td>object</td>\n",
              "      <td>0</td>\n",
              "      <td>6-3</td>\n",
              "      <td>6-10</td>\n",
              "      <td>6-3</td>\n",
              "    </tr>\n",
              "    <tr>\n",
              "      <th>6</th>\n",
              "      <td>Weight</td>\n",
              "      <td>float64</td>\n",
              "      <td>0</td>\n",
              "      <td>200</td>\n",
              "      <td>250</td>\n",
              "      <td>190</td>\n",
              "    </tr>\n",
              "    <tr>\n",
              "      <th>7</th>\n",
              "      <td>College</td>\n",
              "      <td>object</td>\n",
              "      <td>2</td>\n",
              "      <td>Utah</td>\n",
              "      <td>Norfolk State</td>\n",
              "      <td>NaN</td>\n",
              "    </tr>\n",
              "    <tr>\n",
              "      <th>8</th>\n",
              "      <td>Salary</td>\n",
              "      <td>float64</td>\n",
              "      <td>0</td>\n",
              "      <td>250750</td>\n",
              "      <td>3.75e+06</td>\n",
              "      <td>1.4783e+07</td>\n",
              "    </tr>\n",
              "  </tbody>\n",
              "</table>\n",
              "</div>"
            ],
            "text/plain": [
              "       name   dtypes  Missing        First Value     Second Value   Third Value\n",
              "0      Name   object        0       Andre Miller     Kyle O'Quinn  Goran Dragic\n",
              "1      Team   object        0  San Antonio Spurs  New York Knicks    Miami Heat\n",
              "2    Number  float64        0                 24                9             7\n",
              "3  Position   object        0                 PG               PF            PG\n",
              "4       Age  float64        0                 40               26            30\n",
              "5    Height   object        0                6-3             6-10           6-3\n",
              "6    Weight  float64        0                200              250           190\n",
              "7   College   object        2               Utah    Norfolk State           NaN\n",
              "8    Salary  float64        0             250750         3.75e+06    1.4783e+07"
            ]
          },
          "metadata": {},
          "execution_count": 7
        }
      ]
    }
  ]
}