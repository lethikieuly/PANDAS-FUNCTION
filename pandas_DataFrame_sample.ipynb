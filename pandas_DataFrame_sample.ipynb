{
  "nbformat": 4,
  "nbformat_minor": 0,
  "metadata": {
    "colab": {
      "name": "pandas.DataFrame.sample.ipynb",
      "provenance": [],
      "authorship_tag": "ABX9TyOXdsQWEY+XPKE8MAn2Y4v7",
      "include_colab_link": true
    },
    "kernelspec": {
      "name": "python3",
      "display_name": "Python 3"
    },
    "language_info": {
      "name": "python"
    }
  },
  "cells": [
    {
      "cell_type": "markdown",
      "metadata": {
        "id": "view-in-github",
        "colab_type": "text"
      },
      "source": [
        "<a href=\"https://colab.research.google.com/github/lethikieuly/PANDAS-FUNCTION/blob/main/pandas_DataFrame_sample.ipynb\" target=\"_parent\"><img src=\"https://colab.research.google.com/assets/colab-badge.svg\" alt=\"Open In Colab\"/></a>"
      ]
    },
    {
      "cell_type": "markdown",
      "metadata": {
        "id": "XP4lD2QKkE1g"
      },
      "source": [
        "**STRUCTURE**:\n",
        "\n",
        "DataFrame.sample(n=None, frac=None, replace=False, weights=None, random_state=None, axis=None, ignore_index=False)\n",
        "-> Return a random sample of items from an axis of object.*italicized text*"
      ]
    },
    {
      "cell_type": "code",
      "metadata": {
        "id": "YXFCUGrIkO8p"
      },
      "source": [
        "import pandas as pd \n"
      ],
      "execution_count": 13,
      "outputs": []
    },
    {
      "cell_type": "code",
      "metadata": {
        "colab": {
          "base_uri": "https://localhost:8080/",
          "height": 266
        },
        "id": "pkT5zEXjoDCu",
        "outputId": "178b9113-ceaf-4a81-816e-3e1f58291492"
      },
      "source": [
        "df=pd.DataFrame([('Linda', 'Female', 40.8),\n",
        "                   ('Asex', 'Female', 41.0),\n",
        "                   ('Blax', 'male', 50),\n",
        "                   ('Square', 'male', 60),\n",
        "                   ('Page', 'male', 70),\n",
        "                   ('Tompkins', 'male', 55),\n",
        "                   ('Als Place', 'Female', 56.52),],\n",
        "            columns=('name', 'sex', 'Age')\n",
        "              )\n",
        "df"
      ],
      "execution_count": 15,
      "outputs": [
        {
          "output_type": "execute_result",
          "data": {
            "text/html": [
              "<div>\n",
              "<style scoped>\n",
              "    .dataframe tbody tr th:only-of-type {\n",
              "        vertical-align: middle;\n",
              "    }\n",
              "\n",
              "    .dataframe tbody tr th {\n",
              "        vertical-align: top;\n",
              "    }\n",
              "\n",
              "    .dataframe thead th {\n",
              "        text-align: right;\n",
              "    }\n",
              "</style>\n",
              "<table border=\"1\" class=\"dataframe\">\n",
              "  <thead>\n",
              "    <tr style=\"text-align: right;\">\n",
              "      <th></th>\n",
              "      <th>name</th>\n",
              "      <th>sex</th>\n",
              "      <th>Age</th>\n",
              "    </tr>\n",
              "  </thead>\n",
              "  <tbody>\n",
              "    <tr>\n",
              "      <th>0</th>\n",
              "      <td>Linda</td>\n",
              "      <td>Female</td>\n",
              "      <td>40.80</td>\n",
              "    </tr>\n",
              "    <tr>\n",
              "      <th>1</th>\n",
              "      <td>Asex</td>\n",
              "      <td>Female</td>\n",
              "      <td>41.00</td>\n",
              "    </tr>\n",
              "    <tr>\n",
              "      <th>2</th>\n",
              "      <td>Blax</td>\n",
              "      <td>male</td>\n",
              "      <td>50.00</td>\n",
              "    </tr>\n",
              "    <tr>\n",
              "      <th>3</th>\n",
              "      <td>Square</td>\n",
              "      <td>male</td>\n",
              "      <td>60.00</td>\n",
              "    </tr>\n",
              "    <tr>\n",
              "      <th>4</th>\n",
              "      <td>Page</td>\n",
              "      <td>male</td>\n",
              "      <td>70.00</td>\n",
              "    </tr>\n",
              "    <tr>\n",
              "      <th>5</th>\n",
              "      <td>Tompkins</td>\n",
              "      <td>male</td>\n",
              "      <td>55.00</td>\n",
              "    </tr>\n",
              "    <tr>\n",
              "      <th>6</th>\n",
              "      <td>Als Place</td>\n",
              "      <td>Female</td>\n",
              "      <td>56.52</td>\n",
              "    </tr>\n",
              "  </tbody>\n",
              "</table>\n",
              "</div>"
            ],
            "text/plain": [
              "        name     sex    Age\n",
              "0      Linda  Female  40.80\n",
              "1       Asex  Female  41.00\n",
              "2       Blax    male  50.00\n",
              "3     Square    male  60.00\n",
              "4       Page    male  70.00\n",
              "5   Tompkins    male  55.00\n",
              "6  Als Place  Female  56.52"
            ]
          },
          "metadata": {},
          "execution_count": 15
        }
      ]
    },
    {
      "cell_type": "markdown",
      "metadata": {
        "id": "xnCoe5DZmCLf"
      },
      "source": [
        "1/ n:int, optional\n",
        "\n",
        "Number of items from axis to return. Cannot be used with frac. Default = 1 if frac = None.\n",
        "\n",
        "**ex**: n=2 result: return two **`\"random\"`** rows back.\n"
      ]
    },
    {
      "cell_type": "code",
      "metadata": {
        "colab": {
          "base_uri": "https://localhost:8080/",
          "height": 111
        },
        "id": "A-xayBifoyO5",
        "outputId": "f7f68a67-9590-49dd-ceaf-bc3cdd9f298a"
      },
      "source": [
        "df.sample(n=2)"
      ],
      "execution_count": 16,
      "outputs": [
        {
          "output_type": "execute_result",
          "data": {
            "text/html": [
              "<div>\n",
              "<style scoped>\n",
              "    .dataframe tbody tr th:only-of-type {\n",
              "        vertical-align: middle;\n",
              "    }\n",
              "\n",
              "    .dataframe tbody tr th {\n",
              "        vertical-align: top;\n",
              "    }\n",
              "\n",
              "    .dataframe thead th {\n",
              "        text-align: right;\n",
              "    }\n",
              "</style>\n",
              "<table border=\"1\" class=\"dataframe\">\n",
              "  <thead>\n",
              "    <tr style=\"text-align: right;\">\n",
              "      <th></th>\n",
              "      <th>name</th>\n",
              "      <th>sex</th>\n",
              "      <th>Age</th>\n",
              "    </tr>\n",
              "  </thead>\n",
              "  <tbody>\n",
              "    <tr>\n",
              "      <th>0</th>\n",
              "      <td>Linda</td>\n",
              "      <td>Female</td>\n",
              "      <td>40.80</td>\n",
              "    </tr>\n",
              "    <tr>\n",
              "      <th>6</th>\n",
              "      <td>Als Place</td>\n",
              "      <td>Female</td>\n",
              "      <td>56.52</td>\n",
              "    </tr>\n",
              "  </tbody>\n",
              "</table>\n",
              "</div>"
            ],
            "text/plain": [
              "        name     sex    Age\n",
              "0      Linda  Female  40.80\n",
              "6  Als Place  Female  56.52"
            ]
          },
          "metadata": {},
          "execution_count": 16
        }
      ]
    },
    {
      "cell_type": "markdown",
      "metadata": {
        "id": "wHlzmn2PpbEY"
      },
      "source": [
        "2/ fracfloat, optional\n",
        "\n",
        "Fraction of axis items to return. Cannot be used with n.\n",
        "\n",
        "Ex: frac=.3 or 30% result: return 30% 7 row in df = 2  row ( 2.1 rounded up )\n"
      ]
    },
    {
      "cell_type": "code",
      "metadata": {
        "colab": {
          "base_uri": "https://localhost:8080/",
          "height": 111
        },
        "id": "cOy7JwqqqQ08",
        "outputId": "a5b15814-5b32-45bb-9550-a1a4230644f6"
      },
      "source": [
        "df.sample(frac=.3)"
      ],
      "execution_count": 17,
      "outputs": [
        {
          "output_type": "execute_result",
          "data": {
            "text/html": [
              "<div>\n",
              "<style scoped>\n",
              "    .dataframe tbody tr th:only-of-type {\n",
              "        vertical-align: middle;\n",
              "    }\n",
              "\n",
              "    .dataframe tbody tr th {\n",
              "        vertical-align: top;\n",
              "    }\n",
              "\n",
              "    .dataframe thead th {\n",
              "        text-align: right;\n",
              "    }\n",
              "</style>\n",
              "<table border=\"1\" class=\"dataframe\">\n",
              "  <thead>\n",
              "    <tr style=\"text-align: right;\">\n",
              "      <th></th>\n",
              "      <th>name</th>\n",
              "      <th>sex</th>\n",
              "      <th>Age</th>\n",
              "    </tr>\n",
              "  </thead>\n",
              "  <tbody>\n",
              "    <tr>\n",
              "      <th>0</th>\n",
              "      <td>Linda</td>\n",
              "      <td>Female</td>\n",
              "      <td>40.8</td>\n",
              "    </tr>\n",
              "    <tr>\n",
              "      <th>5</th>\n",
              "      <td>Tompkins</td>\n",
              "      <td>male</td>\n",
              "      <td>55.0</td>\n",
              "    </tr>\n",
              "  </tbody>\n",
              "</table>\n",
              "</div>"
            ],
            "text/plain": [
              "       name     sex   Age\n",
              "0     Linda  Female  40.8\n",
              "5  Tompkins    male  55.0"
            ]
          },
          "metadata": {},
          "execution_count": 17
        }
      ]
    },
    {
      "cell_type": "markdown",
      "metadata": {
        "id": "U8RFAl8kqZOt"
      },
      "source": [
        "2/ replace: bool, default False\n",
        "\n",
        "Allow or disallow sampling of the same row more than once.\n",
        "\n",
        "Ex: replace= true result: row can appear repeatedly"
      ]
    },
    {
      "cell_type": "code",
      "metadata": {
        "colab": {
          "base_uri": "https://localhost:8080/",
          "height": 173
        },
        "id": "VtWEINb9rATw",
        "outputId": "4d81ab05-fb08-4b93-e94e-9a2397a11bd6"
      },
      "source": [
        "df.sample(n=4, replace= True)"
      ],
      "execution_count": 19,
      "outputs": [
        {
          "output_type": "execute_result",
          "data": {
            "text/html": [
              "<div>\n",
              "<style scoped>\n",
              "    .dataframe tbody tr th:only-of-type {\n",
              "        vertical-align: middle;\n",
              "    }\n",
              "\n",
              "    .dataframe tbody tr th {\n",
              "        vertical-align: top;\n",
              "    }\n",
              "\n",
              "    .dataframe thead th {\n",
              "        text-align: right;\n",
              "    }\n",
              "</style>\n",
              "<table border=\"1\" class=\"dataframe\">\n",
              "  <thead>\n",
              "    <tr style=\"text-align: right;\">\n",
              "      <th></th>\n",
              "      <th>name</th>\n",
              "      <th>sex</th>\n",
              "      <th>Age</th>\n",
              "    </tr>\n",
              "  </thead>\n",
              "  <tbody>\n",
              "    <tr>\n",
              "      <th>5</th>\n",
              "      <td>Tompkins</td>\n",
              "      <td>male</td>\n",
              "      <td>55.0</td>\n",
              "    </tr>\n",
              "    <tr>\n",
              "      <th>0</th>\n",
              "      <td>Linda</td>\n",
              "      <td>Female</td>\n",
              "      <td>40.8</td>\n",
              "    </tr>\n",
              "    <tr>\n",
              "      <th>0</th>\n",
              "      <td>Linda</td>\n",
              "      <td>Female</td>\n",
              "      <td>40.8</td>\n",
              "    </tr>\n",
              "    <tr>\n",
              "      <th>5</th>\n",
              "      <td>Tompkins</td>\n",
              "      <td>male</td>\n",
              "      <td>55.0</td>\n",
              "    </tr>\n",
              "  </tbody>\n",
              "</table>\n",
              "</div>"
            ],
            "text/plain": [
              "       name     sex   Age\n",
              "5  Tompkins    male  55.0\n",
              "0     Linda  Female  40.8\n",
              "0     Linda  Female  40.8\n",
              "5  Tompkins    male  55.0"
            ]
          },
          "metadata": {},
          "execution_count": 19
        }
      ]
    },
    {
      "cell_type": "code",
      "metadata": {
        "colab": {
          "base_uri": "https://localhost:8080/",
          "height": 204
        },
        "id": "mL67Avj4rNrm",
        "outputId": "41e12e4c-881f-4405-c5d1-6561a4101e1f"
      },
      "source": [
        "df.sample(frac=.7, replace=False)\n",
        "#it not repeat "
      ],
      "execution_count": 23,
      "outputs": [
        {
          "output_type": "execute_result",
          "data": {
            "text/html": [
              "<div>\n",
              "<style scoped>\n",
              "    .dataframe tbody tr th:only-of-type {\n",
              "        vertical-align: middle;\n",
              "    }\n",
              "\n",
              "    .dataframe tbody tr th {\n",
              "        vertical-align: top;\n",
              "    }\n",
              "\n",
              "    .dataframe thead th {\n",
              "        text-align: right;\n",
              "    }\n",
              "</style>\n",
              "<table border=\"1\" class=\"dataframe\">\n",
              "  <thead>\n",
              "    <tr style=\"text-align: right;\">\n",
              "      <th></th>\n",
              "      <th>name</th>\n",
              "      <th>sex</th>\n",
              "      <th>Age</th>\n",
              "    </tr>\n",
              "  </thead>\n",
              "  <tbody>\n",
              "    <tr>\n",
              "      <th>1</th>\n",
              "      <td>Asex</td>\n",
              "      <td>Female</td>\n",
              "      <td>41.00</td>\n",
              "    </tr>\n",
              "    <tr>\n",
              "      <th>0</th>\n",
              "      <td>Linda</td>\n",
              "      <td>Female</td>\n",
              "      <td>40.80</td>\n",
              "    </tr>\n",
              "    <tr>\n",
              "      <th>4</th>\n",
              "      <td>Page</td>\n",
              "      <td>male</td>\n",
              "      <td>70.00</td>\n",
              "    </tr>\n",
              "    <tr>\n",
              "      <th>5</th>\n",
              "      <td>Tompkins</td>\n",
              "      <td>male</td>\n",
              "      <td>55.00</td>\n",
              "    </tr>\n",
              "    <tr>\n",
              "      <th>6</th>\n",
              "      <td>Als Place</td>\n",
              "      <td>Female</td>\n",
              "      <td>56.52</td>\n",
              "    </tr>\n",
              "  </tbody>\n",
              "</table>\n",
              "</div>"
            ],
            "text/plain": [
              "        name     sex    Age\n",
              "1       Asex  Female  41.00\n",
              "0      Linda  Female  40.80\n",
              "4       Page    male  70.00\n",
              "5   Tompkins    male  55.00\n",
              "6  Als Place  Female  56.52"
            ]
          },
          "metadata": {},
          "execution_count": 23
        }
      ]
    },
    {
      "cell_type": "markdown",
      "metadata": {
        "id": "v5I-Tn5drXZV"
      },
      "source": [
        "3/weightsstr or ndarray-like, optional\n",
        "\n",
        "Default ‘None’ results in equal probability weighting.\n",
        "\n",
        "Ex: However, what if you wanted to select female more often than male? You could give female a higher chance (higher weights) to be picked.\n"
      ]
    },
    {
      "cell_type": "code",
      "metadata": {
        "colab": {
          "base_uri": "https://localhost:8080/",
          "height": 266
        },
        "id": "BYu_pb9DsLSB",
        "outputId": "dc6c58e7-b24f-4860-c381-a8b6a587db4f"
      },
      "source": [
        "weights={\"Female\":5, \"male\":1}\n",
        "df [\"weights\"]=df[\"sex\"].apply(lambda x: weights[x])\n",
        "df"
      ],
      "execution_count": 28,
      "outputs": [
        {
          "output_type": "execute_result",
          "data": {
            "text/html": [
              "<div>\n",
              "<style scoped>\n",
              "    .dataframe tbody tr th:only-of-type {\n",
              "        vertical-align: middle;\n",
              "    }\n",
              "\n",
              "    .dataframe tbody tr th {\n",
              "        vertical-align: top;\n",
              "    }\n",
              "\n",
              "    .dataframe thead th {\n",
              "        text-align: right;\n",
              "    }\n",
              "</style>\n",
              "<table border=\"1\" class=\"dataframe\">\n",
              "  <thead>\n",
              "    <tr style=\"text-align: right;\">\n",
              "      <th></th>\n",
              "      <th>name</th>\n",
              "      <th>sex</th>\n",
              "      <th>Age</th>\n",
              "      <th>weights</th>\n",
              "    </tr>\n",
              "  </thead>\n",
              "  <tbody>\n",
              "    <tr>\n",
              "      <th>0</th>\n",
              "      <td>Linda</td>\n",
              "      <td>Female</td>\n",
              "      <td>40.80</td>\n",
              "      <td>5</td>\n",
              "    </tr>\n",
              "    <tr>\n",
              "      <th>1</th>\n",
              "      <td>Asex</td>\n",
              "      <td>Female</td>\n",
              "      <td>41.00</td>\n",
              "      <td>5</td>\n",
              "    </tr>\n",
              "    <tr>\n",
              "      <th>2</th>\n",
              "      <td>Blax</td>\n",
              "      <td>male</td>\n",
              "      <td>50.00</td>\n",
              "      <td>1</td>\n",
              "    </tr>\n",
              "    <tr>\n",
              "      <th>3</th>\n",
              "      <td>Square</td>\n",
              "      <td>male</td>\n",
              "      <td>60.00</td>\n",
              "      <td>1</td>\n",
              "    </tr>\n",
              "    <tr>\n",
              "      <th>4</th>\n",
              "      <td>Page</td>\n",
              "      <td>male</td>\n",
              "      <td>70.00</td>\n",
              "      <td>1</td>\n",
              "    </tr>\n",
              "    <tr>\n",
              "      <th>5</th>\n",
              "      <td>Tompkins</td>\n",
              "      <td>male</td>\n",
              "      <td>55.00</td>\n",
              "      <td>1</td>\n",
              "    </tr>\n",
              "    <tr>\n",
              "      <th>6</th>\n",
              "      <td>Als Place</td>\n",
              "      <td>Female</td>\n",
              "      <td>56.52</td>\n",
              "      <td>5</td>\n",
              "    </tr>\n",
              "  </tbody>\n",
              "</table>\n",
              "</div>"
            ],
            "text/plain": [
              "        name     sex    Age  weights\n",
              "0      Linda  Female  40.80        5\n",
              "1       Asex  Female  41.00        5\n",
              "2       Blax    male  50.00        1\n",
              "3     Square    male  60.00        1\n",
              "4       Page    male  70.00        1\n",
              "5   Tompkins    male  55.00        1\n",
              "6  Als Place  Female  56.52        5"
            ]
          },
          "metadata": {},
          "execution_count": 28
        }
      ]
    },
    {
      "cell_type": "markdown",
      "metadata": {
        "id": "QoJC2a840iby"
      },
      "source": [
        "4/ random_state: int, array-like, BitGenerator, np.random.RandomState, optional\n",
        "\n",
        "Ex: Here I'll pull a random sample of 3 rows from my DataFrame and pass my weights column. I set random state to make sure I get the same random numbers each time. Notice how 2 restaurants pop up out of the 3 rows. That is because they had higher weights and therefore a bigger chance to be picke"
      ]
    },
    {
      "cell_type": "code",
      "metadata": {
        "colab": {
          "base_uri": "https://localhost:8080/",
          "height": 142
        },
        "id": "uXh8mlvvxM2P",
        "outputId": "c077c466-2dd9-42fb-c165-a08eeff7e9a2"
      },
      "source": [
        "df.sample(n=3,weights='weights', random_state=42)"
      ],
      "execution_count": 29,
      "outputs": [
        {
          "output_type": "execute_result",
          "data": {
            "text/html": [
              "<div>\n",
              "<style scoped>\n",
              "    .dataframe tbody tr th:only-of-type {\n",
              "        vertical-align: middle;\n",
              "    }\n",
              "\n",
              "    .dataframe tbody tr th {\n",
              "        vertical-align: top;\n",
              "    }\n",
              "\n",
              "    .dataframe thead th {\n",
              "        text-align: right;\n",
              "    }\n",
              "</style>\n",
              "<table border=\"1\" class=\"dataframe\">\n",
              "  <thead>\n",
              "    <tr style=\"text-align: right;\">\n",
              "      <th></th>\n",
              "      <th>name</th>\n",
              "      <th>sex</th>\n",
              "      <th>Age</th>\n",
              "      <th>weights</th>\n",
              "    </tr>\n",
              "  </thead>\n",
              "  <tbody>\n",
              "    <tr>\n",
              "      <th>1</th>\n",
              "      <td>Asex</td>\n",
              "      <td>Female</td>\n",
              "      <td>41.00</td>\n",
              "      <td>5</td>\n",
              "    </tr>\n",
              "    <tr>\n",
              "      <th>6</th>\n",
              "      <td>Als Place</td>\n",
              "      <td>Female</td>\n",
              "      <td>56.52</td>\n",
              "      <td>5</td>\n",
              "    </tr>\n",
              "    <tr>\n",
              "      <th>5</th>\n",
              "      <td>Tompkins</td>\n",
              "      <td>male</td>\n",
              "      <td>55.00</td>\n",
              "      <td>1</td>\n",
              "    </tr>\n",
              "  </tbody>\n",
              "</table>\n",
              "</div>"
            ],
            "text/plain": [
              "        name     sex    Age  weights\n",
              "1       Asex  Female  41.00        5\n",
              "6  Als Place  Female  56.52        5\n",
              "5   Tompkins    male  55.00        1"
            ]
          },
          "metadata": {},
          "execution_count": 29
        }
      ]
    },
    {
      "cell_type": "markdown",
      "metadata": {
        "id": "o4o37QxP3ylT"
      },
      "source": [
        "5/ axis: {0 or ‘index’, 1 or ‘columns’, None}, default None\n",
        "\n",
        "Axis to sample. Accepts axis number or name. Default is stat axis for given data type (0 for Series and DataFrames).\n",
        "\n",
        "Ex axis = 1, convert rows to colums "
      ]
    },
    {
      "cell_type": "code",
      "metadata": {
        "colab": {
          "base_uri": "https://localhost:8080/",
          "height": 266
        },
        "id": "wdEWTfN6s-ua",
        "outputId": "cb24480b-6348-48fd-f1f6-cdb50745a2fb"
      },
      "source": [
        "df.sample (n=4, axis=1)"
      ],
      "execution_count": 35,
      "outputs": [
        {
          "output_type": "execute_result",
          "data": {
            "text/html": [
              "<div>\n",
              "<style scoped>\n",
              "    .dataframe tbody tr th:only-of-type {\n",
              "        vertical-align: middle;\n",
              "    }\n",
              "\n",
              "    .dataframe tbody tr th {\n",
              "        vertical-align: top;\n",
              "    }\n",
              "\n",
              "    .dataframe thead th {\n",
              "        text-align: right;\n",
              "    }\n",
              "</style>\n",
              "<table border=\"1\" class=\"dataframe\">\n",
              "  <thead>\n",
              "    <tr style=\"text-align: right;\">\n",
              "      <th></th>\n",
              "      <th>name</th>\n",
              "      <th>weights</th>\n",
              "      <th>sex</th>\n",
              "      <th>Age</th>\n",
              "    </tr>\n",
              "  </thead>\n",
              "  <tbody>\n",
              "    <tr>\n",
              "      <th>0</th>\n",
              "      <td>Linda</td>\n",
              "      <td>5</td>\n",
              "      <td>Female</td>\n",
              "      <td>40.80</td>\n",
              "    </tr>\n",
              "    <tr>\n",
              "      <th>1</th>\n",
              "      <td>Asex</td>\n",
              "      <td>5</td>\n",
              "      <td>Female</td>\n",
              "      <td>41.00</td>\n",
              "    </tr>\n",
              "    <tr>\n",
              "      <th>2</th>\n",
              "      <td>Blax</td>\n",
              "      <td>1</td>\n",
              "      <td>male</td>\n",
              "      <td>50.00</td>\n",
              "    </tr>\n",
              "    <tr>\n",
              "      <th>3</th>\n",
              "      <td>Square</td>\n",
              "      <td>1</td>\n",
              "      <td>male</td>\n",
              "      <td>60.00</td>\n",
              "    </tr>\n",
              "    <tr>\n",
              "      <th>4</th>\n",
              "      <td>Page</td>\n",
              "      <td>1</td>\n",
              "      <td>male</td>\n",
              "      <td>70.00</td>\n",
              "    </tr>\n",
              "    <tr>\n",
              "      <th>5</th>\n",
              "      <td>Tompkins</td>\n",
              "      <td>1</td>\n",
              "      <td>male</td>\n",
              "      <td>55.00</td>\n",
              "    </tr>\n",
              "    <tr>\n",
              "      <th>6</th>\n",
              "      <td>Als Place</td>\n",
              "      <td>5</td>\n",
              "      <td>Female</td>\n",
              "      <td>56.52</td>\n",
              "    </tr>\n",
              "  </tbody>\n",
              "</table>\n",
              "</div>"
            ],
            "text/plain": [
              "        name  weights     sex    Age\n",
              "0      Linda        5  Female  40.80\n",
              "1       Asex        5  Female  41.00\n",
              "2       Blax        1    male  50.00\n",
              "3     Square        1    male  60.00\n",
              "4       Page        1    male  70.00\n",
              "5   Tompkins        1    male  55.00\n",
              "6  Als Place        5  Female  56.52"
            ]
          },
          "metadata": {},
          "execution_count": 35
        }
      ]
    },
    {
      "cell_type": "code",
      "metadata": {
        "colab": {
          "base_uri": "https://localhost:8080/",
          "height": 266
        },
        "id": "EnelHB555SMi",
        "outputId": "b70224b9-4e56-4b01-e698-c2ca72b9e188"
      },
      "source": [
        "df.sample (n=2, axis=1)"
      ],
      "execution_count": 36,
      "outputs": [
        {
          "output_type": "execute_result",
          "data": {
            "text/html": [
              "<div>\n",
              "<style scoped>\n",
              "    .dataframe tbody tr th:only-of-type {\n",
              "        vertical-align: middle;\n",
              "    }\n",
              "\n",
              "    .dataframe tbody tr th {\n",
              "        vertical-align: top;\n",
              "    }\n",
              "\n",
              "    .dataframe thead th {\n",
              "        text-align: right;\n",
              "    }\n",
              "</style>\n",
              "<table border=\"1\" class=\"dataframe\">\n",
              "  <thead>\n",
              "    <tr style=\"text-align: right;\">\n",
              "      <th></th>\n",
              "      <th>weights</th>\n",
              "      <th>sex</th>\n",
              "    </tr>\n",
              "  </thead>\n",
              "  <tbody>\n",
              "    <tr>\n",
              "      <th>0</th>\n",
              "      <td>5</td>\n",
              "      <td>Female</td>\n",
              "    </tr>\n",
              "    <tr>\n",
              "      <th>1</th>\n",
              "      <td>5</td>\n",
              "      <td>Female</td>\n",
              "    </tr>\n",
              "    <tr>\n",
              "      <th>2</th>\n",
              "      <td>1</td>\n",
              "      <td>male</td>\n",
              "    </tr>\n",
              "    <tr>\n",
              "      <th>3</th>\n",
              "      <td>1</td>\n",
              "      <td>male</td>\n",
              "    </tr>\n",
              "    <tr>\n",
              "      <th>4</th>\n",
              "      <td>1</td>\n",
              "      <td>male</td>\n",
              "    </tr>\n",
              "    <tr>\n",
              "      <th>5</th>\n",
              "      <td>1</td>\n",
              "      <td>male</td>\n",
              "    </tr>\n",
              "    <tr>\n",
              "      <th>6</th>\n",
              "      <td>5</td>\n",
              "      <td>Female</td>\n",
              "    </tr>\n",
              "  </tbody>\n",
              "</table>\n",
              "</div>"
            ],
            "text/plain": [
              "   weights     sex\n",
              "0        5  Female\n",
              "1        5  Female\n",
              "2        1    male\n",
              "3        1    male\n",
              "4        1    male\n",
              "5        1    male\n",
              "6        5  Female"
            ]
          },
          "metadata": {},
          "execution_count": 36
        }
      ]
    },
    {
      "cell_type": "markdown",
      "metadata": {
        "id": "ueJZ3eco6VdA"
      },
      "source": [
        "6/ ignore_index: bool, default False\n",
        "\n",
        "If True, the resulting index will be labeled 0, 1, …, n - 1.\n",
        "\n",
        "New in version 1.3.0."
      ]
    }
  ]
}