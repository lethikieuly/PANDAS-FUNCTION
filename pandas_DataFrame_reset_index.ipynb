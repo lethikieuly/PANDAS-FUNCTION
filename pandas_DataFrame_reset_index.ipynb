{
  "nbformat": 4,
  "nbformat_minor": 0,
  "metadata": {
    "colab": {
      "name": "pandas.DataFrame.reset_index.ipynb",
      "provenance": [],
      "authorship_tag": "ABX9TyMVdlS+AOskSbkoX2vSPd3+",
      "include_colab_link": true
    },
    "kernelspec": {
      "name": "python3",
      "display_name": "Python 3"
    },
    "language_info": {
      "name": "python"
    }
  },
  "cells": [
    {
      "cell_type": "markdown",
      "metadata": {
        "id": "view-in-github",
        "colab_type": "text"
      },
      "source": [
        "<a href=\"https://colab.research.google.com/github/lethikieuly/PANDAS-FUNCTION/blob/main/pandas_DataFrame_reset_index.ipynb\" target=\"_parent\"><img src=\"https://colab.research.google.com/assets/colab-badge.svg\" alt=\"Open In Colab\"/></a>"
      ]
    },
    {
      "cell_type": "markdown",
      "metadata": {
        "id": "h-qMA1vP7eNx"
      },
      "source": [
        "**STUCTURE**\n",
        "\n",
        "DataFrame.reset_index(level=None, drop=False, inplace=False, col_level=0, col_fill='')\n",
        "\n",
        "Reset the index of the DataFrame, and use the default one instead. If the DataFrame has a MultiIndex, this method can remove one or more levels."
      ]
    },
    {
      "cell_type": "code",
      "metadata": {
        "id": "QzzagMrS7gqk"
      },
      "source": [
        "import pandas as pd "
      ],
      "execution_count": 2,
      "outputs": []
    },
    {
      "cell_type": "code",
      "metadata": {
        "colab": {
          "base_uri": "https://localhost:8080/",
          "height": 266
        },
        "id": "XHdqiTU085Y0",
        "outputId": "2487a9e1-537d-41a3-9bce-960e94986563"
      },
      "source": [
        "df= pd.DataFrame ([('Linda', 'Female', 40.8),\n",
        "                   ('Asex', 'Female', 41.0),\n",
        "                   ('Blax', 'male', 50),\n",
        "                   ('Square', 'male', 60),\n",
        "                   ('Page', 'male', 70),\n",
        "                   ('Tompkins', 'male', 55),\n",
        "                   ('Als Place', 'Female', 56.52),],\n",
        "                  index =['2000',\"2001\",\"2002\",'2000',\"2001\",\"2002\",\"2002\"],\n",
        "                  columns=(\"name\",\"sex\",\"Age\"))\n",
        "df"
      ],
      "execution_count": 3,
      "outputs": [
        {
          "output_type": "execute_result",
          "data": {
            "text/html": [
              "<div>\n",
              "<style scoped>\n",
              "    .dataframe tbody tr th:only-of-type {\n",
              "        vertical-align: middle;\n",
              "    }\n",
              "\n",
              "    .dataframe tbody tr th {\n",
              "        vertical-align: top;\n",
              "    }\n",
              "\n",
              "    .dataframe thead th {\n",
              "        text-align: right;\n",
              "    }\n",
              "</style>\n",
              "<table border=\"1\" class=\"dataframe\">\n",
              "  <thead>\n",
              "    <tr style=\"text-align: right;\">\n",
              "      <th></th>\n",
              "      <th>name</th>\n",
              "      <th>sex</th>\n",
              "      <th>Age</th>\n",
              "    </tr>\n",
              "  </thead>\n",
              "  <tbody>\n",
              "    <tr>\n",
              "      <th>2000</th>\n",
              "      <td>Linda</td>\n",
              "      <td>Female</td>\n",
              "      <td>40.80</td>\n",
              "    </tr>\n",
              "    <tr>\n",
              "      <th>2001</th>\n",
              "      <td>Asex</td>\n",
              "      <td>Female</td>\n",
              "      <td>41.00</td>\n",
              "    </tr>\n",
              "    <tr>\n",
              "      <th>2002</th>\n",
              "      <td>Blax</td>\n",
              "      <td>male</td>\n",
              "      <td>50.00</td>\n",
              "    </tr>\n",
              "    <tr>\n",
              "      <th>2000</th>\n",
              "      <td>Square</td>\n",
              "      <td>male</td>\n",
              "      <td>60.00</td>\n",
              "    </tr>\n",
              "    <tr>\n",
              "      <th>2001</th>\n",
              "      <td>Page</td>\n",
              "      <td>male</td>\n",
              "      <td>70.00</td>\n",
              "    </tr>\n",
              "    <tr>\n",
              "      <th>2002</th>\n",
              "      <td>Tompkins</td>\n",
              "      <td>male</td>\n",
              "      <td>55.00</td>\n",
              "    </tr>\n",
              "    <tr>\n",
              "      <th>2002</th>\n",
              "      <td>Als Place</td>\n",
              "      <td>Female</td>\n",
              "      <td>56.52</td>\n",
              "    </tr>\n",
              "  </tbody>\n",
              "</table>\n",
              "</div>"
            ],
            "text/plain": [
              "           name     sex    Age\n",
              "2000      Linda  Female  40.80\n",
              "2001       Asex  Female  41.00\n",
              "2002       Blax    male  50.00\n",
              "2000     Square    male  60.00\n",
              "2001       Page    male  70.00\n",
              "2002   Tompkins    male  55.00\n",
              "2002  Als Place  Female  56.52"
            ]
          },
          "metadata": {},
          "execution_count": 3
        }
      ]
    },
    {
      "cell_type": "code",
      "metadata": {
        "colab": {
          "base_uri": "https://localhost:8080/",
          "height": 266
        },
        "id": "2avUGQSy-dS6",
        "outputId": "82e485b7-2816-40b5-ad9f-9466808e480c"
      },
      "source": [
        "df.reset_index()\n",
        "#When we reset the index, the old index is added as a column, and a new sequential index is used:"
      ],
      "execution_count": 4,
      "outputs": [
        {
          "output_type": "execute_result",
          "data": {
            "text/html": [
              "<div>\n",
              "<style scoped>\n",
              "    .dataframe tbody tr th:only-of-type {\n",
              "        vertical-align: middle;\n",
              "    }\n",
              "\n",
              "    .dataframe tbody tr th {\n",
              "        vertical-align: top;\n",
              "    }\n",
              "\n",
              "    .dataframe thead th {\n",
              "        text-align: right;\n",
              "    }\n",
              "</style>\n",
              "<table border=\"1\" class=\"dataframe\">\n",
              "  <thead>\n",
              "    <tr style=\"text-align: right;\">\n",
              "      <th></th>\n",
              "      <th>index</th>\n",
              "      <th>name</th>\n",
              "      <th>sex</th>\n",
              "      <th>Age</th>\n",
              "    </tr>\n",
              "  </thead>\n",
              "  <tbody>\n",
              "    <tr>\n",
              "      <th>0</th>\n",
              "      <td>2000</td>\n",
              "      <td>Linda</td>\n",
              "      <td>Female</td>\n",
              "      <td>40.80</td>\n",
              "    </tr>\n",
              "    <tr>\n",
              "      <th>1</th>\n",
              "      <td>2001</td>\n",
              "      <td>Asex</td>\n",
              "      <td>Female</td>\n",
              "      <td>41.00</td>\n",
              "    </tr>\n",
              "    <tr>\n",
              "      <th>2</th>\n",
              "      <td>2002</td>\n",
              "      <td>Blax</td>\n",
              "      <td>male</td>\n",
              "      <td>50.00</td>\n",
              "    </tr>\n",
              "    <tr>\n",
              "      <th>3</th>\n",
              "      <td>2000</td>\n",
              "      <td>Square</td>\n",
              "      <td>male</td>\n",
              "      <td>60.00</td>\n",
              "    </tr>\n",
              "    <tr>\n",
              "      <th>4</th>\n",
              "      <td>2001</td>\n",
              "      <td>Page</td>\n",
              "      <td>male</td>\n",
              "      <td>70.00</td>\n",
              "    </tr>\n",
              "    <tr>\n",
              "      <th>5</th>\n",
              "      <td>2002</td>\n",
              "      <td>Tompkins</td>\n",
              "      <td>male</td>\n",
              "      <td>55.00</td>\n",
              "    </tr>\n",
              "    <tr>\n",
              "      <th>6</th>\n",
              "      <td>2002</td>\n",
              "      <td>Als Place</td>\n",
              "      <td>Female</td>\n",
              "      <td>56.52</td>\n",
              "    </tr>\n",
              "  </tbody>\n",
              "</table>\n",
              "</div>"
            ],
            "text/plain": [
              "  index       name     sex    Age\n",
              "0  2000      Linda  Female  40.80\n",
              "1  2001       Asex  Female  41.00\n",
              "2  2002       Blax    male  50.00\n",
              "3  2000     Square    male  60.00\n",
              "4  2001       Page    male  70.00\n",
              "5  2002   Tompkins    male  55.00\n",
              "6  2002  Als Place  Female  56.52"
            ]
          },
          "metadata": {},
          "execution_count": 4
        }
      ]
    },
    {
      "cell_type": "markdown",
      "metadata": {
        "id": "se8atFWKC4cs"
      },
      "source": [
        "We can use the drop parameter to avoid the old index being added as a column:"
      ]
    },
    {
      "cell_type": "code",
      "metadata": {
        "id": "J7oaobKx-sNu",
        "colab": {
          "base_uri": "https://localhost:8080/",
          "height": 266
        },
        "outputId": "7826a36c-1f70-496a-d866-efadfe4c1359"
      },
      "source": [
        "df.reset_index(drop=True)"
      ],
      "execution_count": 5,
      "outputs": [
        {
          "output_type": "execute_result",
          "data": {
            "text/html": [
              "<div>\n",
              "<style scoped>\n",
              "    .dataframe tbody tr th:only-of-type {\n",
              "        vertical-align: middle;\n",
              "    }\n",
              "\n",
              "    .dataframe tbody tr th {\n",
              "        vertical-align: top;\n",
              "    }\n",
              "\n",
              "    .dataframe thead th {\n",
              "        text-align: right;\n",
              "    }\n",
              "</style>\n",
              "<table border=\"1\" class=\"dataframe\">\n",
              "  <thead>\n",
              "    <tr style=\"text-align: right;\">\n",
              "      <th></th>\n",
              "      <th>name</th>\n",
              "      <th>sex</th>\n",
              "      <th>Age</th>\n",
              "    </tr>\n",
              "  </thead>\n",
              "  <tbody>\n",
              "    <tr>\n",
              "      <th>0</th>\n",
              "      <td>Linda</td>\n",
              "      <td>Female</td>\n",
              "      <td>40.80</td>\n",
              "    </tr>\n",
              "    <tr>\n",
              "      <th>1</th>\n",
              "      <td>Asex</td>\n",
              "      <td>Female</td>\n",
              "      <td>41.00</td>\n",
              "    </tr>\n",
              "    <tr>\n",
              "      <th>2</th>\n",
              "      <td>Blax</td>\n",
              "      <td>male</td>\n",
              "      <td>50.00</td>\n",
              "    </tr>\n",
              "    <tr>\n",
              "      <th>3</th>\n",
              "      <td>Square</td>\n",
              "      <td>male</td>\n",
              "      <td>60.00</td>\n",
              "    </tr>\n",
              "    <tr>\n",
              "      <th>4</th>\n",
              "      <td>Page</td>\n",
              "      <td>male</td>\n",
              "      <td>70.00</td>\n",
              "    </tr>\n",
              "    <tr>\n",
              "      <th>5</th>\n",
              "      <td>Tompkins</td>\n",
              "      <td>male</td>\n",
              "      <td>55.00</td>\n",
              "    </tr>\n",
              "    <tr>\n",
              "      <th>6</th>\n",
              "      <td>Als Place</td>\n",
              "      <td>Female</td>\n",
              "      <td>56.52</td>\n",
              "    </tr>\n",
              "  </tbody>\n",
              "</table>\n",
              "</div>"
            ],
            "text/plain": [
              "        name     sex    Age\n",
              "0      Linda  Female  40.80\n",
              "1       Asex  Female  41.00\n",
              "2       Blax    male  50.00\n",
              "3     Square    male  60.00\n",
              "4       Page    male  70.00\n",
              "5   Tompkins    male  55.00\n",
              "6  Als Place  Female  56.52"
            ]
          },
          "metadata": {},
          "execution_count": 5
        }
      ]
    },
    {
      "cell_type": "markdown",
      "metadata": {
        "id": "L9VavSXNDDCg"
      },
      "source": [
        "You can also use reset_index with MultiIndex."
      ]
    },
    {
      "cell_type": "code",
      "metadata": {
        "id": "lE7_1_-FDP4I"
      },
      "source": [
        ""
      ],
      "execution_count": null,
      "outputs": []
    }
  ]
}