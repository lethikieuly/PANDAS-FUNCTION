{
  "nbformat": 4,
  "nbformat_minor": 0,
  "metadata": {
    "colab": {
      "name": "Pandas_value_Counts.ipynb",
      "provenance": [],
      "authorship_tag": "ABX9TyNoOp0cJs1bLqS7NcbDxMjB",
      "include_colab_link": true
    },
    "kernelspec": {
      "name": "python3",
      "display_name": "Python 3"
    },
    "language_info": {
      "name": "python"
    }
  },
  "cells": [
    {
      "cell_type": "markdown",
      "metadata": {
        "id": "view-in-github",
        "colab_type": "text"
      },
      "source": [
        "<a href=\"https://colab.research.google.com/github/lethikieuly/PANDAS-FUNCTION/blob/main/Pandas_value_Counts.ipynb\" target=\"_parent\"><img src=\"https://colab.research.google.com/assets/colab-badge.svg\" alt=\"Open In Colab\"/></a>"
      ]
    },
    {
      "cell_type": "markdown",
      "metadata": {
        "id": "_TeGABM1X7si"
      },
      "source": [
        "**STRUTURE**\n",
        "\n",
        "DataFrame.value_counts(subset=None, normalize=False, sort=True, ascending=False, dropna=True)\n",
        "\n",
        "Return a Series containing counts of **unique rows **in the DataFrame.\n",
        "\n",
        "It will count the frequency of the unique values in your series or \n",
        "Count How many each value occurs?  Let's start examples below!\n",
        "\n",
        "**1/ Counting frequency of unique values in a series**\n",
        "\n",
        "**2/ Counting relative frequency of unique values in a series (normalizing)**\n",
        "\n",
        "**3/ Counting a continuous series using bins.**\n",
        "\n"
      ]
    },
    {
      "cell_type": "markdown",
      "metadata": {
        "id": "WPamX8noZl_p"
      },
      "source": [
        "1/ Counting frequency of unique values in a series."
      ]
    },
    {
      "cell_type": "code",
      "metadata": {
        "colab": {
          "base_uri": "https://localhost:8080/",
          "height": 173
        },
        "id": "7kEUIXwwZen2",
        "outputId": "a7f4b87e-1f1d-41f1-9d2c-dd180ffb3a23"
      },
      "source": [
        "import pandas as pd\n",
        "School=pd.DataFrame([('UEL', 'Female',0.8),\n",
        "                    ('BKU','Female',0.2),\n",
        "                    ('UEL','Male',0.2),\n",
        "                     ('UIT','Female',0.3)],\n",
        "                    columns=('school','sex','proportion'))\n",
        "School"
      ],
      "execution_count": null,
      "outputs": [
        {
          "output_type": "execute_result",
          "data": {
            "text/html": [
              "<div>\n",
              "<style scoped>\n",
              "    .dataframe tbody tr th:only-of-type {\n",
              "        vertical-align: middle;\n",
              "    }\n",
              "\n",
              "    .dataframe tbody tr th {\n",
              "        vertical-align: top;\n",
              "    }\n",
              "\n",
              "    .dataframe thead th {\n",
              "        text-align: right;\n",
              "    }\n",
              "</style>\n",
              "<table border=\"1\" class=\"dataframe\">\n",
              "  <thead>\n",
              "    <tr style=\"text-align: right;\">\n",
              "      <th></th>\n",
              "      <th>school</th>\n",
              "      <th>sex</th>\n",
              "      <th>proportion</th>\n",
              "    </tr>\n",
              "  </thead>\n",
              "  <tbody>\n",
              "    <tr>\n",
              "      <th>0</th>\n",
              "      <td>UEL</td>\n",
              "      <td>Female</td>\n",
              "      <td>0.8</td>\n",
              "    </tr>\n",
              "    <tr>\n",
              "      <th>1</th>\n",
              "      <td>BKU</td>\n",
              "      <td>Female</td>\n",
              "      <td>0.2</td>\n",
              "    </tr>\n",
              "    <tr>\n",
              "      <th>2</th>\n",
              "      <td>UEL</td>\n",
              "      <td>Male</td>\n",
              "      <td>0.2</td>\n",
              "    </tr>\n",
              "    <tr>\n",
              "      <th>3</th>\n",
              "      <td>UIT</td>\n",
              "      <td>Female</td>\n",
              "      <td>0.3</td>\n",
              "    </tr>\n",
              "  </tbody>\n",
              "</table>\n",
              "</div>"
            ],
            "text/plain": [
              "  school     sex  proportion\n",
              "0    UEL  Female         0.8\n",
              "1    BKU  Female         0.2\n",
              "2    UEL    Male         0.2\n",
              "3    UIT  Female         0.3"
            ]
          },
          "metadata": {},
          "execution_count": 14
        }
      ]
    },
    {
      "cell_type": "code",
      "metadata": {
        "colab": {
          "base_uri": "https://localhost:8080/"
        },
        "id": "6aJge_3XbdwQ",
        "outputId": "3087b967-3105-4b70-fbfc-e7e88c0c963f"
      },
      "source": [
        "#Let's call values_counts on our \"name\" column.-> Trả về số lượng trong cột school \n",
        "School['school'].value_counts()"
      ],
      "execution_count": null,
      "outputs": [
        {
          "output_type": "execute_result",
          "data": {
            "text/plain": [
              "UEL    2\n",
              "UIT    1\n",
              "BKU    1\n",
              "Name: school, dtype: int64"
            ]
          },
          "metadata": {},
          "execution_count": 15
        }
      ]
    },
    {
      "cell_type": "code",
      "metadata": {
        "colab": {
          "base_uri": "https://localhost:8080/"
        },
        "id": "9Jp9PpkOXkKe",
        "outputId": "07429237-9be5-4812-df9e-49f38b6e8bff"
      },
      "source": [
        "#It not sort\n",
        "School['school'].value_counts(sort=False)"
      ],
      "execution_count": null,
      "outputs": [
        {
          "output_type": "execute_result",
          "data": {
            "text/plain": [
              "BKU    1\n",
              "UEL    2\n",
              "UIT    1\n",
              "Name: school, dtype: int64"
            ]
          },
          "metadata": {},
          "execution_count": 18
        }
      ]
    },
    {
      "cell_type": "code",
      "metadata": {
        "colab": {
          "base_uri": "https://localhost:8080/"
        },
        "id": "UQwXL07rck2P",
        "outputId": "30862f72-5447-4483-e412-a5a74913d3f0"
      },
      "source": [
        "#Sort in ascending order \n",
        "School['school'].value_counts(ascending=True)"
      ],
      "execution_count": null,
      "outputs": [
        {
          "output_type": "execute_result",
          "data": {
            "text/plain": [
              "BKU    1\n",
              "UIT    1\n",
              "UEL    2\n",
              "Name: school, dtype: int64"
            ]
          },
          "metadata": {},
          "execution_count": 20
        }
      ]
    },
    {
      "cell_type": "markdown",
      "metadata": {
        "id": "5pjL3lOcdURi"
      },
      "source": [
        "2/ Counting relative frequency of unique values in a series (normalizing)\n",
        "Phương pháp nhằm tính sác xuất tần suất xuất hiện\n",
        "\n",
        "Vd bài toán này: tuần suất xuất hiện 1 lần 1/4\n",
        "\n",
        "Tuần xuất xuất hiện uit=1*0.25, uel=2*0.25, bku=1*0.25\n"
      ]
    },
    {
      "cell_type": "code",
      "metadata": {
        "colab": {
          "base_uri": "https://localhost:8080/"
        },
        "id": "omxWY_gNdVGZ",
        "outputId": "2055aaff-ea15-4594-97ce-ee4932eadada"
      },
      "source": [
        "School.value_counts(normalize=True)"
      ],
      "execution_count": null,
      "outputs": [
        {
          "output_type": "execute_result",
          "data": {
            "text/plain": [
              "school  sex     proportion\n",
              "UIT     Female  0.3           0.25\n",
              "UEL     Male    0.2           0.25\n",
              "        Female  0.8           0.25\n",
              "BKU     Female  0.2           0.25\n",
              "dtype: float64"
            ]
          },
          "metadata": {},
          "execution_count": 21
        }
      ]
    },
    {
      "cell_type": "markdown",
      "metadata": {
        "id": "uYhDTwLqDcju"
      },
      "source": [
        "3/ Counting a continuous series using bins."
      ]
    },
    {
      "cell_type": "code",
      "metadata": {
        "colab": {
          "base_uri": "https://localhost:8080/",
          "height": 359
        },
        "id": "shd1chWIDfa5",
        "outputId": "4aa5ef0e-87d6-431b-b511-9a970da4ff56"
      },
      "source": [
        "import numpy as np\n",
        "import pandas as pd\n",
        "np.random.seed(seed=42) #Đảm bảo các các giá trị giống nhau xuất hiện mỗi lần\n",
        "random_number= np.random.random(size=(10,1),)\n",
        "random_number=pd.DataFrame(random_number,columns=['rand_num'])\n",
        "random_number"
      ],
      "execution_count": 1,
      "outputs": [
        {
          "output_type": "execute_result",
          "data": {
            "text/html": [
              "<div>\n",
              "<style scoped>\n",
              "    .dataframe tbody tr th:only-of-type {\n",
              "        vertical-align: middle;\n",
              "    }\n",
              "\n",
              "    .dataframe tbody tr th {\n",
              "        vertical-align: top;\n",
              "    }\n",
              "\n",
              "    .dataframe thead th {\n",
              "        text-align: right;\n",
              "    }\n",
              "</style>\n",
              "<table border=\"1\" class=\"dataframe\">\n",
              "  <thead>\n",
              "    <tr style=\"text-align: right;\">\n",
              "      <th></th>\n",
              "      <th>rand_num</th>\n",
              "    </tr>\n",
              "  </thead>\n",
              "  <tbody>\n",
              "    <tr>\n",
              "      <th>0</th>\n",
              "      <td>0.374540</td>\n",
              "    </tr>\n",
              "    <tr>\n",
              "      <th>1</th>\n",
              "      <td>0.950714</td>\n",
              "    </tr>\n",
              "    <tr>\n",
              "      <th>2</th>\n",
              "      <td>0.731994</td>\n",
              "    </tr>\n",
              "    <tr>\n",
              "      <th>3</th>\n",
              "      <td>0.598658</td>\n",
              "    </tr>\n",
              "    <tr>\n",
              "      <th>4</th>\n",
              "      <td>0.156019</td>\n",
              "    </tr>\n",
              "    <tr>\n",
              "      <th>5</th>\n",
              "      <td>0.155995</td>\n",
              "    </tr>\n",
              "    <tr>\n",
              "      <th>6</th>\n",
              "      <td>0.058084</td>\n",
              "    </tr>\n",
              "    <tr>\n",
              "      <th>7</th>\n",
              "      <td>0.866176</td>\n",
              "    </tr>\n",
              "    <tr>\n",
              "      <th>8</th>\n",
              "      <td>0.601115</td>\n",
              "    </tr>\n",
              "    <tr>\n",
              "      <th>9</th>\n",
              "      <td>0.708073</td>\n",
              "    </tr>\n",
              "  </tbody>\n",
              "</table>\n",
              "</div>"
            ],
            "text/plain": [
              "   rand_num\n",
              "0  0.374540\n",
              "1  0.950714\n",
              "2  0.731994\n",
              "3  0.598658\n",
              "4  0.156019\n",
              "5  0.155995\n",
              "6  0.058084\n",
              "7  0.866176\n",
              "8  0.601115\n",
              "9  0.708073"
            ]
          },
          "metadata": {},
          "execution_count": 1
        }
      ]
    },
    {
      "cell_type": "code",
      "metadata": {
        "colab": {
          "base_uri": "https://localhost:8080/"
        },
        "id": "ooslJkEREepS",
        "outputId": "2eabf5b9-257c-491c-cb59-7438b8f4bce6"
      },
      "source": [
        "random_number['rand_num'].value_counts(bins=3)\n",
        "#Qua đây ta nhìn nhận số giá trị thuộc trong 3 bin dữ liệu vừa chia."
      ],
      "execution_count": 2,
      "outputs": [
        {
          "output_type": "execute_result",
          "data": {
            "text/plain": [
              "(0.653, 0.951]     4\n",
              "(0.356, 0.653]     3\n",
              "(0.0562, 0.356]    3\n",
              "Name: rand_num, dtype: int64"
            ]
          },
          "metadata": {},
          "execution_count": 2
        }
      ]
    },
    {
      "cell_type": "code",
      "metadata": {
        "colab": {
          "base_uri": "https://localhost:8080/"
        },
        "id": "3g2SQaqsFF2P",
        "outputId": "88b93152-f56f-4d27-8f61-5feca4836f54"
      },
      "source": [
        "random_number['rand_num'].value_counts(bins=[0,.2,.6,1])"
      ],
      "execution_count": 3,
      "outputs": [
        {
          "output_type": "execute_result",
          "data": {
            "text/plain": [
              "(0.6, 1.0]       5\n",
              "(-0.001, 0.2]    3\n",
              "(0.2, 0.6]       2\n",
              "Name: rand_num, dtype: int64"
            ]
          },
          "metadata": {},
          "execution_count": 3
        }
      ]
    }
  ]
}