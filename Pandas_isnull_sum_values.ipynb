{
  "nbformat": 4,
  "nbformat_minor": 0,
  "metadata": {
    "colab": {
      "name": "Pandas_isnull_sum_values.ipynb",
      "provenance": [],
      "authorship_tag": "ABX9TyNSp/M3K2sBvH0OatDIiO30",
      "include_colab_link": true
    },
    "kernelspec": {
      "name": "python3",
      "display_name": "Python 3"
    },
    "language_info": {
      "name": "python"
    }
  },
  "cells": [
    {
      "cell_type": "markdown",
      "metadata": {
        "id": "view-in-github",
        "colab_type": "text"
      },
      "source": [
        "<a href=\"https://colab.research.google.com/github/lethikieuly/PANDAS-FUNCTION/blob/main/Pandas_isnull_sum_values.ipynb\" target=\"_parent\"><img src=\"https://colab.research.google.com/assets/colab-badge.svg\" alt=\"Open In Colab\"/></a>"
      ]
    },
    {
      "cell_type": "markdown",
      "metadata": {
        "id": "whMxu2GaCWqO"
      },
      "source": [
        "**I./** **Pandas.DataFrame.isnull**\n",
        "\n",
        "i enjoy this function. it Detect missing values Return a boolean same-sized object indicating if the values are NA. NA values, such as None or numpy.NaN, gets mapped to True values. Everything else gets mapped to False values. Characters such as empty strings '' or numpy.inf are not considered NA values (unless you set pandas.options.mode.use_inf_as_na = True).\n",
        "\n",
        "**Examples:**"
      ]
    },
    {
      "cell_type": "code",
      "metadata": {
        "colab": {
          "base_uri": "https://localhost:8080/"
        },
        "id": "dBPATfEvB_ek",
        "outputId": "0f178fcb-6b36-4925-dc5b-1b7bc6652f1d"
      },
      "source": [
        "import pandas as pd\n",
        "import numpy as np\n",
        "covid={'City':['HCM', 'HaNoi',None, 'DaNang', \"CanTho\"],\n",
        "       'Socamac':[1,2,np.NaN,0, np.NaN],\n",
        "       }\n",
        "covid=pd.DataFrame(data=covid)\n",
        "print(covid.isnull())"
      ],
      "execution_count": 2,
      "outputs": [
        {
          "output_type": "stream",
          "name": "stdout",
          "text": [
            "    City  Socamac\n",
            "0  False    False\n",
            "1  False    False\n",
            "2   True     True\n",
            "3  False    False\n",
            "4  False     True\n"
          ]
        }
      ]
    },
    {
      "cell_type": "markdown",
      "metadata": {
        "id": "8S19A9yGFTQh"
      },
      "source": [
        "Additionally, I can .sum expression matching. Return the sum of the values over the requested axis.\n",
        "\n",
        "DataFrame.sum(axis=None, skipna=None, level=None, numeric_only=None, min_count=0, **kwargs)\n",
        "\n",
        "We wil not go into this in depth, but focus on implementing a small part. \n",
        "Let's continue with the above example: \n",
        "\n",
        "Pandas Sum: Summing across rows, Summing across columns, Multi Level Index Sum , Summing a Series\n",
        "But first, let's create our DataFrame"
      ]
    },
    {
      "cell_type": "code",
      "metadata": {
        "colab": {
          "base_uri": "https://localhost:8080/"
        },
        "id": "nYIBVFgPFSan",
        "outputId": "7a322bfa-3a91-42aa-8a60-147c067fb5df"
      },
      "source": [
        "print(covid.sum())\n",
        "#it sum all detect missing values"
      ],
      "execution_count": 6,
      "outputs": [
        {
          "output_type": "stream",
          "name": "stdout",
          "text": [
            "Socamac    3.0\n",
            "dtype: float64\n"
          ]
        }
      ]
    },
    {
      "cell_type": "code",
      "metadata": {
        "colab": {
          "base_uri": "https://localhost:8080/",
          "height": 142
        },
        "id": "atvCoeWCk_Mn",
        "outputId": "4be033a9-3bd8-4abb-c681-3b837480fa24"
      },
      "source": [
        "covid1=pd.DataFrame([(3,100), (2,70), ( 0,60)],columns=(\"Chet\",'So ca'))\n",
        "covid1"
      ],
      "execution_count": 14,
      "outputs": [
        {
          "output_type": "execute_result",
          "data": {
            "text/html": [
              "<div>\n",
              "<style scoped>\n",
              "    .dataframe tbody tr th:only-of-type {\n",
              "        vertical-align: middle;\n",
              "    }\n",
              "\n",
              "    .dataframe tbody tr th {\n",
              "        vertical-align: top;\n",
              "    }\n",
              "\n",
              "    .dataframe thead th {\n",
              "        text-align: right;\n",
              "    }\n",
              "</style>\n",
              "<table border=\"1\" class=\"dataframe\">\n",
              "  <thead>\n",
              "    <tr style=\"text-align: right;\">\n",
              "      <th></th>\n",
              "      <th>Chet</th>\n",
              "      <th>So ca</th>\n",
              "    </tr>\n",
              "  </thead>\n",
              "  <tbody>\n",
              "    <tr>\n",
              "      <th>0</th>\n",
              "      <td>3</td>\n",
              "      <td>100</td>\n",
              "    </tr>\n",
              "    <tr>\n",
              "      <th>1</th>\n",
              "      <td>2</td>\n",
              "      <td>70</td>\n",
              "    </tr>\n",
              "    <tr>\n",
              "      <th>2</th>\n",
              "      <td>0</td>\n",
              "      <td>60</td>\n",
              "    </tr>\n",
              "  </tbody>\n",
              "</table>\n",
              "</div>"
            ],
            "text/plain": [
              "   Chet  So ca\n",
              "0     3    100\n",
              "1     2     70\n",
              "2     0     60"
            ]
          },
          "metadata": {},
          "execution_count": 14
        }
      ]
    },
    {
      "cell_type": "markdown",
      "metadata": {
        "id": "w8cyRrlmKaG5"
      },
      "source": [
        "**II./  Pandas.DataFrame.sum**"
      ]
    },
    {
      "cell_type": "markdown",
      "metadata": {
        "id": "1XkOmbjXn9ah"
      },
      "source": [
        "**1/ SUM ACROSS ROW & COLUMN**"
      ]
    },
    {
      "cell_type": "code",
      "metadata": {
        "colab": {
          "base_uri": "https://localhost:8080/"
        },
        "id": "60efxUTCl8Wa",
        "outputId": "5f2f0887-78d3-4ac5-d82e-109045fef9f7"
      },
      "source": [
        "# Sum across row\n",
        "covid1.sum(axis=1)\n"
      ],
      "execution_count": 16,
      "outputs": [
        {
          "output_type": "execute_result",
          "data": {
            "text/plain": [
              "0    103\n",
              "1     72\n",
              "2     60\n",
              "dtype: int64"
            ]
          },
          "metadata": {},
          "execution_count": 16
        }
      ]
    },
    {
      "cell_type": "code",
      "metadata": {
        "colab": {
          "base_uri": "https://localhost:8080/"
        },
        "id": "QDy3klv6nk6H",
        "outputId": "31c791ff-47a0-4762-d753-047b41364445"
      },
      "source": [
        "# Sum across column\n",
        "covid1.sum(axis= 0)"
      ],
      "execution_count": 17,
      "outputs": [
        {
          "output_type": "execute_result",
          "data": {
            "text/plain": [
              "Chet       5\n",
              "So ca    230\n",
              "dtype: int64"
            ]
          },
          "metadata": {},
          "execution_count": 17
        }
      ]
    },
    {
      "cell_type": "markdown",
      "metadata": {
        "id": "BUtpgxxwoFlA"
      },
      "source": [
        "**2/ MULTI LEVEL INDEX SUM**\n",
        "\n",
        "If you have a multi level index, then you can tell pandas which index you'd like to sum across.\n",
        "\n",
        "Let's make a multi level DataFrame first."
      ]
    },
    {
      "cell_type": "code",
      "metadata": {
        "colab": {
          "base_uri": "https://localhost:8080/",
          "height": 235
        },
        "id": "96-ZrDlOn3xu",
        "outputId": "f129f70b-26ce-4fcc-b4a8-3a710c7c24ca"
      },
      "source": [
        "data=(['Mango','sweet', 10,2],\n",
        "      ['Mango','sour', 7,1],\n",
        "      ['plum','sweet', 20,5],\n",
        "      ['Apple', 'sweet',10,7],\n",
        "      ['Apple','bitterness',15,1])\n",
        "fruits=pd.DataFrame(data,columns=['Fruits','Taste','Weight','quatity'])\n",
        "fruits=fruits.set_index(['Fruits', 'Taste'])\n",
        "fruits"
      ],
      "execution_count": 4,
      "outputs": [
        {
          "output_type": "execute_result",
          "data": {
            "text/html": [
              "<div>\n",
              "<style scoped>\n",
              "    .dataframe tbody tr th:only-of-type {\n",
              "        vertical-align: middle;\n",
              "    }\n",
              "\n",
              "    .dataframe tbody tr th {\n",
              "        vertical-align: top;\n",
              "    }\n",
              "\n",
              "    .dataframe thead th {\n",
              "        text-align: right;\n",
              "    }\n",
              "</style>\n",
              "<table border=\"1\" class=\"dataframe\">\n",
              "  <thead>\n",
              "    <tr style=\"text-align: right;\">\n",
              "      <th></th>\n",
              "      <th></th>\n",
              "      <th>Weight</th>\n",
              "      <th>quatity</th>\n",
              "    </tr>\n",
              "    <tr>\n",
              "      <th>Fruits</th>\n",
              "      <th>Taste</th>\n",
              "      <th></th>\n",
              "      <th></th>\n",
              "    </tr>\n",
              "  </thead>\n",
              "  <tbody>\n",
              "    <tr>\n",
              "      <th rowspan=\"2\" valign=\"top\">Mango</th>\n",
              "      <th>sweet</th>\n",
              "      <td>10</td>\n",
              "      <td>2</td>\n",
              "    </tr>\n",
              "    <tr>\n",
              "      <th>sour</th>\n",
              "      <td>7</td>\n",
              "      <td>1</td>\n",
              "    </tr>\n",
              "    <tr>\n",
              "      <th>plum</th>\n",
              "      <th>sweet</th>\n",
              "      <td>20</td>\n",
              "      <td>5</td>\n",
              "    </tr>\n",
              "    <tr>\n",
              "      <th rowspan=\"2\" valign=\"top\">Apple</th>\n",
              "      <th>sweet</th>\n",
              "      <td>10</td>\n",
              "      <td>7</td>\n",
              "    </tr>\n",
              "    <tr>\n",
              "      <th>bitterness</th>\n",
              "      <td>15</td>\n",
              "      <td>1</td>\n",
              "    </tr>\n",
              "  </tbody>\n",
              "</table>\n",
              "</div>"
            ],
            "text/plain": [
              "                   Weight  quatity\n",
              "Fruits Taste                      \n",
              "Mango  sweet           10        2\n",
              "       sour             7        1\n",
              "plum   sweet           20        5\n",
              "Apple  sweet           10        7\n",
              "       bitterness      15        1"
            ]
          },
          "metadata": {},
          "execution_count": 4
        }
      ]
    },
    {
      "cell_type": "code",
      "metadata": {
        "colab": {
          "base_uri": "https://localhost:8080/",
          "height": 173
        },
        "id": "8QK0DF2nIbFN",
        "outputId": "6fa96205-bb7e-40f8-c7e9-564dfb40ff85"
      },
      "source": [
        "fruits.sum(level=1)\n",
        "# Function vô cùng hữu ích trong việc phân tích dữ liệu, nhận thấy tính tổng  sweet (10+20+10), sour(7) & bitterness (15)"
      ],
      "execution_count": 10,
      "outputs": [
        {
          "output_type": "execute_result",
          "data": {
            "text/html": [
              "<div>\n",
              "<style scoped>\n",
              "    .dataframe tbody tr th:only-of-type {\n",
              "        vertical-align: middle;\n",
              "    }\n",
              "\n",
              "    .dataframe tbody tr th {\n",
              "        vertical-align: top;\n",
              "    }\n",
              "\n",
              "    .dataframe thead th {\n",
              "        text-align: right;\n",
              "    }\n",
              "</style>\n",
              "<table border=\"1\" class=\"dataframe\">\n",
              "  <thead>\n",
              "    <tr style=\"text-align: right;\">\n",
              "      <th></th>\n",
              "      <th>Weight</th>\n",
              "      <th>quatity</th>\n",
              "    </tr>\n",
              "    <tr>\n",
              "      <th>Taste</th>\n",
              "      <th></th>\n",
              "      <th></th>\n",
              "    </tr>\n",
              "  </thead>\n",
              "  <tbody>\n",
              "    <tr>\n",
              "      <th>sweet</th>\n",
              "      <td>40</td>\n",
              "      <td>14</td>\n",
              "    </tr>\n",
              "    <tr>\n",
              "      <th>sour</th>\n",
              "      <td>7</td>\n",
              "      <td>1</td>\n",
              "    </tr>\n",
              "    <tr>\n",
              "      <th>bitterness</th>\n",
              "      <td>15</td>\n",
              "      <td>1</td>\n",
              "    </tr>\n",
              "  </tbody>\n",
              "</table>\n",
              "</div>"
            ],
            "text/plain": [
              "            Weight  quatity\n",
              "Taste                      \n",
              "sweet           40       14\n",
              "sour             7        1\n",
              "bitterness      15        1"
            ]
          },
          "metadata": {},
          "execution_count": 10
        }
      ]
    },
    {
      "cell_type": "code",
      "metadata": {
        "colab": {
          "base_uri": "https://localhost:8080/",
          "height": 173
        },
        "id": "FWMs42nLIlSu",
        "outputId": "0010188e-2423-4cb9-8778-8831e729e6b4"
      },
      "source": [
        "fruits.sum(level=0)\n",
        "# Sum gộm các hàng mango, plum, apple :)))) nó làm tôi tưởng tượng đến pivottable, ở đây ta chỉ dùng 1 câu lệnh, that is amazing!"
      ],
      "execution_count": 7,
      "outputs": [
        {
          "output_type": "execute_result",
          "data": {
            "text/html": [
              "<div>\n",
              "<style scoped>\n",
              "    .dataframe tbody tr th:only-of-type {\n",
              "        vertical-align: middle;\n",
              "    }\n",
              "\n",
              "    .dataframe tbody tr th {\n",
              "        vertical-align: top;\n",
              "    }\n",
              "\n",
              "    .dataframe thead th {\n",
              "        text-align: right;\n",
              "    }\n",
              "</style>\n",
              "<table border=\"1\" class=\"dataframe\">\n",
              "  <thead>\n",
              "    <tr style=\"text-align: right;\">\n",
              "      <th></th>\n",
              "      <th>Weight</th>\n",
              "      <th>quatity</th>\n",
              "    </tr>\n",
              "    <tr>\n",
              "      <th>Fruits</th>\n",
              "      <th></th>\n",
              "      <th></th>\n",
              "    </tr>\n",
              "  </thead>\n",
              "  <tbody>\n",
              "    <tr>\n",
              "      <th>Mango</th>\n",
              "      <td>17</td>\n",
              "      <td>3</td>\n",
              "    </tr>\n",
              "    <tr>\n",
              "      <th>plum</th>\n",
              "      <td>20</td>\n",
              "      <td>5</td>\n",
              "    </tr>\n",
              "    <tr>\n",
              "      <th>Apple</th>\n",
              "      <td>25</td>\n",
              "      <td>8</td>\n",
              "    </tr>\n",
              "  </tbody>\n",
              "</table>\n",
              "</div>"
            ],
            "text/plain": [
              "        Weight  quatity\n",
              "Fruits                 \n",
              "Mango       17        3\n",
              "plum        20        5\n",
              "Apple       25        8"
            ]
          },
          "metadata": {},
          "execution_count": 7
        }
      ]
    },
    {
      "cell_type": "markdown",
      "metadata": {
        "id": "qTT0rPkYIIqf"
      },
      "source": [
        "**III./ pandas.DataFrame.values**\n",
        "\n",
        "Only the values in the DataFrame will be returned, the axes labels will be removed."
      ]
    },
    {
      "cell_type": "code",
      "metadata": {
        "colab": {
          "base_uri": "https://localhost:8080/"
        },
        "id": "gbJOBNAGKpov",
        "outputId": "b397beba-3fc4-457a-f08a-39637fea4385"
      },
      "source": [
        "fruits.values"
      ],
      "execution_count": 11,
      "outputs": [
        {
          "output_type": "execute_result",
          "data": {
            "text/plain": [
              "array([[10,  2],\n",
              "       [ 7,  1],\n",
              "       [20,  5],\n",
              "       [10,  7],\n",
              "       [15,  1]])"
            ]
          },
          "metadata": {},
          "execution_count": 11
        }
      ]
    },
    {
      "cell_type": "code",
      "metadata": {
        "colab": {
          "base_uri": "https://localhost:8080/"
        },
        "id": "QJi_xlygLLDC",
        "outputId": "fb925307-a9a5-4a4e-f9f9-6576cb1c7636"
      },
      "source": [
        "covid.values"
      ],
      "execution_count": 12,
      "outputs": [
        {
          "output_type": "execute_result",
          "data": {
            "text/plain": [
              "array([['HCM', 1.0],\n",
              "       ['HaNoi', 2.0],\n",
              "       [None, nan],\n",
              "       ['DaNang', 0.0],\n",
              "       ['CanTho', nan]], dtype=object)"
            ]
          },
          "metadata": {},
          "execution_count": 12
        }
      ]
    }
  ]
}